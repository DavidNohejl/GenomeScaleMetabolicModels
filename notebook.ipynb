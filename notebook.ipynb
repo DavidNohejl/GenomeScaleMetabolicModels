{
 "cells": [
  {
   "cell_type": "markdown",
   "metadata": {},
   "source": [
    "## Day 2"
   ]
  },
  {
   "cell_type": "markdown",
   "metadata": {},
   "source": [
    "Run **CarveMe** to build whole genome metabolic models of our bacteria. This will run for some while (about 90sec per species) so in the meantime you can read more about CarveMe here: https://carveme.readthedocs.io/en/latest/usage.html\n"
   ]
  },
  {
   "cell_type": "code",
   "execution_count": null,
   "metadata": {},
   "outputs": [],
   "source": [
    "!carve --refseq GCF_001548235.1 -o Rothia_mucilaginosa.xml\n",
    "!carve --refseq GCF_001069775.1 -o Streptococcus_cristatus.xml\n",
    "!carve --refseq GCF_001069855.1 -o Streptococcus_salivarius.xml\n",
    "!carve --refseq GCF_003584215.1 -o Veillonella_parvula.xml"
   ]
  },
  {
   "cell_type": "markdown",
   "metadata": {},
   "source": [
    "Once the models are build, we can use parsimous Flux Balance Analysys (pFBA) from Framed https://framed.readthedocs.io/en/latest/ package to simulate growth."
   ]
  },
  {
   "cell_type": "code",
   "execution_count": null,
   "metadata": {},
   "outputs": [],
   "source": [
    "from framed import load_cbmodel, pFBA\n",
    "from framed.experimental import medium\n",
    "from framed import Environment\n",
    "\n",
    "for f in ['Rothia_mucilaginosa','Streptococcus_cristatus','Streptococcus_salivarius','Veillonella_parvula']:\n",
    "    model = load_cbmodel(f+'.xml', flavor='cobra')\n",
    "    (m,solution) = medium.minimal_medium(model,min_mass_weight=True)\n",
    "    Environment.from_compounds(m,exchange_format=\"'{}'\").apply(model)\n",
    "    solution = pFBA(model)\n",
    "    print('organism: ',f)\n",
    "    print( 'growth rate', solution.values[model.biomass_reaction] )\n",
    "    print()"
   ]
  },
  {
   "cell_type": "markdown",
   "metadata": {},
   "source": [
    "Now that we have the models and calculated growth rates, lets run **Smetana** to investigate the inter species metabolite exchange. You can read more about smetana here : https://smetana.readthedocs.io/en/latest/. We tell Smetana to calculate minimal media using molecular weights (--molweight), we want detailed (-d) interspecies interactions and we don't care about inorganic compounds (--exclude):"
   ]
  },
  {
   "cell_type": "code",
   "execution_count": null,
   "metadata": {
    "scrolled": true
   },
   "outputs": [],
   "source": [
    "!smetana --flavor cobra --molweight -d -o \"smetana_out\" --exclude \"inorganic.txt\"  \"*.xml\""
   ]
  },
  {
   "cell_type": "markdown",
   "metadata": {},
   "source": [
    "Lets look at the file Smetana produced."
   ]
  },
  {
   "cell_type": "code",
   "execution_count": null,
   "metadata": {},
   "outputs": [],
   "source": [
    "import pandas as pd\n",
    "data = pd.read_csv('smetana_out_detailed.tsv',sep='\\t')\n",
    "print(data.head())"
   ]
  },
  {
   "cell_type": "markdown",
   "metadata": {},
   "source": [
    "We want just interacions with smetana score > 0.1, which means these appeared in > 10% of the simulations."
   ]
  },
  {
   "cell_type": "code",
   "execution_count": null,
   "metadata": {},
   "outputs": [],
   "source": [
    "data_filtered = data[data['smetana'] > 0.1]"
   ]
  },
  {
   "cell_type": "markdown",
   "metadata": {},
   "source": [
    "You can use McNet (http://mcnet.biobyte.de/) to visualize the interactions. Ask someone for a login :( and then upload the smetana file.\n",
    "                                                                                                      \n",
    "But anyway. Lets now run Smetana with -g option, which calculates  MIP and MRO.                                                                                                 "
   ]
  },
  {
   "cell_type": "code",
   "execution_count": null,
   "metadata": {},
   "outputs": [],
   "source": [
    "!smetana --flavor cobra  --molweight -g -o \"smetana_simple\" \"*.xml\"\n",
    "\n",
    "dfs = pd.read_csv('smetana_simple_global.tsv',sep='\\t')\n",
    "print(dfs)"
   ]
  },
  {
   "cell_type": "markdown",
   "metadata": {},
   "source": [
    "MIP (7) and MRO (0.65) values suggest ... TODO\n",
    "\n",
    "Now to continue with the analysis, lets add abiotic perturbation to the media and recalculate the growth rate and investigate change in interactions."
   ]
  },
  {
   "cell_type": "code",
   "execution_count": null,
   "metadata": {},
   "outputs": [],
   "source": [
    "# run the abiotic preturbations for some compounds\n",
    "\n",
    "!smetana -a \"substrates.txt\" -v -n 0 --exclude \"inorganic.txt\" --flavor cobra --molweight -o \"smetana_simple_abiotic\" \"*.xml\"    "
   ]
  },
  {
   "cell_type": "markdown",
   "metadata": {},
   "source": [
    "Once again, you can use McNet to visualize the results.\n",
    "\n",
    "For rest of the analysis, I've randomly chosen one compound (Thymidine). Now we'll try to recalculate the growth rate for each bacteria,\n",
    "by using the minimal medium for the comunity, plus the metabolites it recieves from other bacteria in community."
   ]
  },
  {
   "cell_type": "code",
   "execution_count": null,
   "metadata": {},
   "outputs": [],
   "source": [
    "import pandas as pd\n",
    "import numpy as np\n",
    "\n",
    "from framed import load_cbmodel, pFBA\n",
    "from framed.experimental import medium\n",
    "from framed import Environment\n",
    "from framed import Community\n",
    "from smetana import minimal_environment\n",
    "\n",
    "df = pd.read_csv('smetana_simple_abiotic_detailed.tsv',sep='\\t')\n",
    "df = df[df['smetana'] > 0.1]\n",
    "df_all = df\n",
    "\n",
    "models_inCom = []\n",
    "for f in ['Rothia_mucilaginosa','Streptococcus_cristatus','Streptococcus_salivarius','Veillonella_parvula']:\n",
    "    models_inCom.append(load_cbmodel(f+'.xml', flavor='cobra'))\n",
    "\n",
    "substrate_df = []\n",
    "\n",
    "#count minimal media for community\n",
    "print('Calculating minimal medium')\n",
    "    \n",
    "new_community = Community(\"\", models_inCom, copy_models=False)\n",
    "env = minimal_environment(new_community, verbose=True, min_mol_weight=True)\n",
    "minimal_media = env.get_compounds()\n",
    "    \n",
    "print('Getting perturbation')\n",
    "    \n",
    "perturbation = ['thymd']\n",
    "minimal_media.extend(perturbation)\n",
    "    \n",
    "to_use = [0,1,2,3]\n",
    "    \n",
    "names = ['Rothia_mucilaginosa','Streptococcus_cristatus','Streptococcus_salivarius','Veillonella_parvula']\n",
    "#for every organism calculate growth \n",
    "for i in to_use:\n",
    "    #determine received compounds from other bacteria, add it to minimal media\n",
    "    m_name = names[i]\n",
    "    print('Organism: %s' %m_name)\n",
    "   \n",
    "    rec = df_all[df_all['receiver'] == m_name]['compound'].tolist()\n",
    "    #print('receiveing', rec)\n",
    "    used_media = list(set(minimal_media + rec))   \n",
    "        \n",
    "    m_model = models_inCom[i]\n",
    "    print('Applying medium')\n",
    "    Environment.from_compounds(used_media).apply(m_model)\n",
    "    \n",
    "        \n",
    "    other_reactions = set(m_model.get_exchange_reactions()) - set(env)\n",
    "    new_reactions, sol = medium.minimal_medium(m_model, exchange_reactions=other_reactions, min_mass_weight=True)\n",
    "    for r_id in new_reactions:\n",
    "        m_model.set_lower_bound(r_id, -10)\n",
    "    \n",
    "    print('Running pFBA')\n",
    "    solution = pFBA(m_model)\n",
    "    print( 'growth rate', solution.values[m_model.biomass_reaction] )\n",
    "    \n",
    "    #substrate_df.append( (name[0], name[1], m_name, solution.values[m_model.biomass_reaction]) )\n",
    "    #comunity, media, organism, growth\n",
    "    print('______________________________________________________')\n",
    "    print()\n"
   ]
  },
  {
   "cell_type": "code",
   "execution_count": null,
   "metadata": {},
   "outputs": [],
   "source": []
  }
 ],
 "metadata": {
  "anaconda-cloud": {},
  "kernelspec": {
   "display_name": "Python 3",
   "language": "python",
   "name": "python3"
  },
  "language_info": {
   "codemirror_mode": {
    "name": "ipython",
    "version": 3
   },
   "file_extension": ".py",
   "mimetype": "text/x-python",
   "name": "python",
   "nbconvert_exporter": "python",
   "pygments_lexer": "ipython3",
   "version": "3.6.9"
  }
 },
 "nbformat": 4,
 "nbformat_minor": 2
}
